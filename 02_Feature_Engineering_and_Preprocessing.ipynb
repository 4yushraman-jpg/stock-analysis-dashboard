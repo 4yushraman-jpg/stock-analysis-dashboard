{
 "cells": [
  {
   "cell_type": "code",
   "execution_count": 4,
   "id": "45ff5130-8aa5-4ad6-97f6-e3391bdd9d1b",
   "metadata": {},
   "outputs": [],
   "source": [
    "import numpy as np\n",
    "import pandas as pd\n",
    "import matplotlib.pyplot as plt\n",
    "import seaborn as sns"
   ]
  },
  {
   "cell_type": "code",
   "execution_count": 5,
   "id": "d37f18e1-6a84-40ca-928c-26d3f969e90b",
   "metadata": {},
   "outputs": [],
   "source": [
    "df = pd.read_csv(\"C:/Users/4yush/Desktop/datasets/daily_prices.csv\")"
   ]
  },
  {
   "cell_type": "code",
   "execution_count": 6,
   "id": "a893d40f-fd2e-4a8f-bbc6-8ee3b55595f9",
   "metadata": {},
   "outputs": [
    {
     "data": {
      "text/html": [
       "<div>\n",
       "<style scoped>\n",
       "    .dataframe tbody tr th:only-of-type {\n",
       "        vertical-align: middle;\n",
       "    }\n",
       "\n",
       "    .dataframe tbody tr th {\n",
       "        vertical-align: top;\n",
       "    }\n",
       "\n",
       "    .dataframe thead th {\n",
       "        text-align: right;\n",
       "    }\n",
       "</style>\n",
       "<table border=\"1\" class=\"dataframe\">\n",
       "  <thead>\n",
       "    <tr style=\"text-align: right;\">\n",
       "      <th></th>\n",
       "      <th>date</th>\n",
       "      <th>open</th>\n",
       "      <th>high</th>\n",
       "      <th>low</th>\n",
       "      <th>close</th>\n",
       "      <th>volume</th>\n",
       "      <th>symbol</th>\n",
       "    </tr>\n",
       "  </thead>\n",
       "  <tbody>\n",
       "    <tr>\n",
       "      <th>0</th>\n",
       "      <td>2025-08-18</td>\n",
       "      <td>231.700</td>\n",
       "      <td>233.12</td>\n",
       "      <td>230.110</td>\n",
       "      <td>230.89</td>\n",
       "      <td>37476188</td>\n",
       "      <td>AAPL</td>\n",
       "    </tr>\n",
       "    <tr>\n",
       "      <th>1</th>\n",
       "      <td>2025-08-15</td>\n",
       "      <td>234.000</td>\n",
       "      <td>234.28</td>\n",
       "      <td>229.335</td>\n",
       "      <td>231.59</td>\n",
       "      <td>56038657</td>\n",
       "      <td>AAPL</td>\n",
       "    </tr>\n",
       "    <tr>\n",
       "      <th>2</th>\n",
       "      <td>2025-08-14</td>\n",
       "      <td>234.055</td>\n",
       "      <td>235.12</td>\n",
       "      <td>230.850</td>\n",
       "      <td>232.78</td>\n",
       "      <td>51916275</td>\n",
       "      <td>AAPL</td>\n",
       "    </tr>\n",
       "    <tr>\n",
       "      <th>3</th>\n",
       "      <td>2025-08-13</td>\n",
       "      <td>231.070</td>\n",
       "      <td>235.00</td>\n",
       "      <td>230.430</td>\n",
       "      <td>233.33</td>\n",
       "      <td>69878546</td>\n",
       "      <td>AAPL</td>\n",
       "    </tr>\n",
       "    <tr>\n",
       "      <th>4</th>\n",
       "      <td>2025-08-12</td>\n",
       "      <td>228.005</td>\n",
       "      <td>230.80</td>\n",
       "      <td>227.070</td>\n",
       "      <td>229.65</td>\n",
       "      <td>55672301</td>\n",
       "      <td>AAPL</td>\n",
       "    </tr>\n",
       "    <tr>\n",
       "      <th>5</th>\n",
       "      <td>2025-08-11</td>\n",
       "      <td>227.920</td>\n",
       "      <td>229.56</td>\n",
       "      <td>224.760</td>\n",
       "      <td>227.18</td>\n",
       "      <td>61806132</td>\n",
       "      <td>AAPL</td>\n",
       "    </tr>\n",
       "    <tr>\n",
       "      <th>6</th>\n",
       "      <td>2025-08-08</td>\n",
       "      <td>220.830</td>\n",
       "      <td>231.00</td>\n",
       "      <td>219.250</td>\n",
       "      <td>229.35</td>\n",
       "      <td>113853967</td>\n",
       "      <td>AAPL</td>\n",
       "    </tr>\n",
       "    <tr>\n",
       "      <th>7</th>\n",
       "      <td>2025-08-07</td>\n",
       "      <td>218.875</td>\n",
       "      <td>220.85</td>\n",
       "      <td>216.580</td>\n",
       "      <td>220.03</td>\n",
       "      <td>90224834</td>\n",
       "      <td>AAPL</td>\n",
       "    </tr>\n",
       "    <tr>\n",
       "      <th>8</th>\n",
       "      <td>2025-08-06</td>\n",
       "      <td>205.630</td>\n",
       "      <td>215.38</td>\n",
       "      <td>205.590</td>\n",
       "      <td>213.25</td>\n",
       "      <td>108483103</td>\n",
       "      <td>AAPL</td>\n",
       "    </tr>\n",
       "    <tr>\n",
       "      <th>9</th>\n",
       "      <td>2025-08-05</td>\n",
       "      <td>203.400</td>\n",
       "      <td>205.34</td>\n",
       "      <td>202.160</td>\n",
       "      <td>202.92</td>\n",
       "      <td>44155079</td>\n",
       "      <td>AAPL</td>\n",
       "    </tr>\n",
       "  </tbody>\n",
       "</table>\n",
       "</div>"
      ],
      "text/plain": [
       "         date     open    high      low   close     volume symbol\n",
       "0  2025-08-18  231.700  233.12  230.110  230.89   37476188   AAPL\n",
       "1  2025-08-15  234.000  234.28  229.335  231.59   56038657   AAPL\n",
       "2  2025-08-14  234.055  235.12  230.850  232.78   51916275   AAPL\n",
       "3  2025-08-13  231.070  235.00  230.430  233.33   69878546   AAPL\n",
       "4  2025-08-12  228.005  230.80  227.070  229.65   55672301   AAPL\n",
       "5  2025-08-11  227.920  229.56  224.760  227.18   61806132   AAPL\n",
       "6  2025-08-08  220.830  231.00  219.250  229.35  113853967   AAPL\n",
       "7  2025-08-07  218.875  220.85  216.580  220.03   90224834   AAPL\n",
       "8  2025-08-06  205.630  215.38  205.590  213.25  108483103   AAPL\n",
       "9  2025-08-05  203.400  205.34  202.160  202.92   44155079   AAPL"
      ]
     },
     "execution_count": 6,
     "metadata": {},
     "output_type": "execute_result"
    }
   ],
   "source": [
    "df.head(10)"
   ]
  },
  {
   "cell_type": "code",
   "execution_count": 7,
   "id": "d3fea573-fa08-48e0-b564-e35a5442badd",
   "metadata": {},
   "outputs": [
    {
     "name": "stdout",
     "output_type": "stream",
     "text": [
      "<class 'pandas.core.frame.DataFrame'>\n",
      "RangeIndex: 400 entries, 0 to 399\n",
      "Data columns (total 7 columns):\n",
      " #   Column  Non-Null Count  Dtype  \n",
      "---  ------  --------------  -----  \n",
      " 0   date    400 non-null    object \n",
      " 1   open    400 non-null    float64\n",
      " 2   high    400 non-null    float64\n",
      " 3   low     400 non-null    float64\n",
      " 4   close   400 non-null    float64\n",
      " 5   volume  400 non-null    int64  \n",
      " 6   symbol  400 non-null    object \n",
      "dtypes: float64(4), int64(1), object(2)\n",
      "memory usage: 22.0+ KB\n"
     ]
    }
   ],
   "source": [
    "df.info()"
   ]
  },
  {
   "cell_type": "code",
   "execution_count": 8,
   "id": "8a08408e-bf05-4d76-923f-f0d87d441e4f",
   "metadata": {},
   "outputs": [
    {
     "data": {
      "text/html": [
       "<div>\n",
       "<style scoped>\n",
       "    .dataframe tbody tr th:only-of-type {\n",
       "        vertical-align: middle;\n",
       "    }\n",
       "\n",
       "    .dataframe tbody tr th {\n",
       "        vertical-align: top;\n",
       "    }\n",
       "\n",
       "    .dataframe thead th {\n",
       "        text-align: right;\n",
       "    }\n",
       "</style>\n",
       "<table border=\"1\" class=\"dataframe\">\n",
       "  <thead>\n",
       "    <tr style=\"text-align: right;\">\n",
       "      <th></th>\n",
       "      <th>open</th>\n",
       "      <th>high</th>\n",
       "      <th>low</th>\n",
       "      <th>close</th>\n",
       "      <th>volume</th>\n",
       "    </tr>\n",
       "  </thead>\n",
       "  <tbody>\n",
       "    <tr>\n",
       "      <th>count</th>\n",
       "      <td>400.000000</td>\n",
       "      <td>400.000000</td>\n",
       "      <td>400.000000</td>\n",
       "      <td>400.000000</td>\n",
       "      <td>4.000000e+02</td>\n",
       "    </tr>\n",
       "    <tr>\n",
       "      <th>mean</th>\n",
       "      <td>261.113977</td>\n",
       "      <td>264.153145</td>\n",
       "      <td>258.357141</td>\n",
       "      <td>261.353000</td>\n",
       "      <td>4.243071e+07</td>\n",
       "    </tr>\n",
       "    <tr>\n",
       "      <th>std</th>\n",
       "      <td>118.837681</td>\n",
       "      <td>119.288808</td>\n",
       "      <td>118.251827</td>\n",
       "      <td>118.751901</td>\n",
       "      <td>2.444551e+07</td>\n",
       "    </tr>\n",
       "    <tr>\n",
       "      <th>min</th>\n",
       "      <td>141.550000</td>\n",
       "      <td>148.945000</td>\n",
       "      <td>140.530000</td>\n",
       "      <td>144.700000</td>\n",
       "      <td>1.184659e+07</td>\n",
       "    </tr>\n",
       "    <tr>\n",
       "      <th>25%</th>\n",
       "      <td>186.212500</td>\n",
       "      <td>190.322500</td>\n",
       "      <td>183.815000</td>\n",
       "      <td>188.210000</td>\n",
       "      <td>2.670183e+07</td>\n",
       "    </tr>\n",
       "    <tr>\n",
       "      <th>50%</th>\n",
       "      <td>208.257500</td>\n",
       "      <td>210.288250</td>\n",
       "      <td>205.670000</td>\n",
       "      <td>208.140000</td>\n",
       "      <td>3.728322e+07</td>\n",
       "    </tr>\n",
       "    <tr>\n",
       "      <th>75%</th>\n",
       "      <td>264.547500</td>\n",
       "      <td>268.517500</td>\n",
       "      <td>260.385000</td>\n",
       "      <td>264.222500</td>\n",
       "      <td>5.135226e+07</td>\n",
       "    </tr>\n",
       "    <tr>\n",
       "      <th>max</th>\n",
       "      <td>555.225000</td>\n",
       "      <td>555.450000</td>\n",
       "      <td>531.900000</td>\n",
       "      <td>535.640000</td>\n",
       "      <td>1.843959e+08</td>\n",
       "    </tr>\n",
       "  </tbody>\n",
       "</table>\n",
       "</div>"
      ],
      "text/plain": [
       "             open        high         low       close        volume\n",
       "count  400.000000  400.000000  400.000000  400.000000  4.000000e+02\n",
       "mean   261.113977  264.153145  258.357141  261.353000  4.243071e+07\n",
       "std    118.837681  119.288808  118.251827  118.751901  2.444551e+07\n",
       "min    141.550000  148.945000  140.530000  144.700000  1.184659e+07\n",
       "25%    186.212500  190.322500  183.815000  188.210000  2.670183e+07\n",
       "50%    208.257500  210.288250  205.670000  208.140000  3.728322e+07\n",
       "75%    264.547500  268.517500  260.385000  264.222500  5.135226e+07\n",
       "max    555.225000  555.450000  531.900000  535.640000  1.843959e+08"
      ]
     },
     "execution_count": 8,
     "metadata": {},
     "output_type": "execute_result"
    }
   ],
   "source": [
    "df.describe()"
   ]
  },
  {
   "cell_type": "code",
   "execution_count": 9,
   "id": "0c61f86b-c155-48b7-bdd7-8d6faab88375",
   "metadata": {},
   "outputs": [
    {
     "data": {
      "text/plain": [
       "array(['AAPL', 'GOOGL', 'MSFT', 'AMZN'], dtype=object)"
      ]
     },
     "execution_count": 9,
     "metadata": {},
     "output_type": "execute_result"
    }
   ],
   "source": [
    "df['date'] = pd.to_datetime(df['date'])\n",
    "df.sort_values(['symbol', 'date']).reset_index(drop = True)\n",
    "df['symbol'].unique()"
   ]
  },
  {
   "cell_type": "code",
   "execution_count": 10,
   "id": "847ad29c-bbaa-406a-a54d-960ea84b7809",
   "metadata": {},
   "outputs": [
    {
     "name": "stdout",
     "output_type": "stream",
     "text": [
      "date      0\n",
      "open      0\n",
      "high      0\n",
      "low       0\n",
      "close     0\n",
      "volume    0\n",
      "symbol    0\n",
      "dtype: int64\n",
      "Number of duplicate rows: 0\n"
     ]
    }
   ],
   "source": [
    "print(df.isnull().sum())\n",
    "print(f\"Number of duplicate rows: {df.duplicated().sum()}\")"
   ]
  },
  {
   "cell_type": "markdown",
   "id": "195075aa-706a-48ad-a3c4-dcee6742142a",
   "metadata": {},
   "source": [
    "# Moving Averages: \n",
    "### These are a cornerstone of financial analysis. They smooth out short-term price fluctuations to reveal longer-term trends."
   ]
  },
  {
   "cell_type": "code",
   "execution_count": 11,
   "id": "4df4c898-6ed6-47c0-bc3e-4cc342c170c6",
   "metadata": {},
   "outputs": [],
   "source": [
    "df['MA50'] = df.groupby('symbol')['close'].transform(lambda x: x.rolling(window=50).mean())\n",
    "df['MA200'] = df.groupby('symbol')['close'].transform(lambda x: x.rolling(window=200).mean())"
   ]
  },
  {
   "cell_type": "code",
   "execution_count": 12,
   "id": "a35b14ed-903c-4253-8362-dbba441f1cbc",
   "metadata": {},
   "outputs": [],
   "source": [
    "df['daily_return'] = df.groupby('symbol')['close'].pct_change()"
   ]
  },
  {
   "cell_type": "markdown",
   "id": "89420bdc-0813-47b2-a8b0-3d45f9ab20f3",
   "metadata": {},
   "source": [
    "# Volatility: \n",
    "### Calculate the rolling standard deviation of daily returns to measure risk. High volatility means the price is changing dramatically."
   ]
  },
  {
   "cell_type": "code",
   "execution_count": 13,
   "id": "de81bd18-cc3f-40c4-94a0-31c13f69c735",
   "metadata": {},
   "outputs": [],
   "source": [
    "df['volatility'] = df.groupby('symbol')['daily_return'].transform(lambda x: x.rolling(window=30).std())"
   ]
  },
  {
   "cell_type": "code",
   "execution_count": 43,
   "id": "15025696-2ca1-441d-a2ec-daa6b19e43f5",
   "metadata": {},
   "outputs": [],
   "source": [
    "processed_df = df.copy()\n",
    "processed_df.to_pickle('processed_stock_data.pkl')"
   ]
  }
 ],
 "metadata": {
  "kernelspec": {
   "display_name": "Python [conda env:base] *",
   "language": "python",
   "name": "conda-base-py"
  },
  "language_info": {
   "codemirror_mode": {
    "name": "ipython",
    "version": 3
   },
   "file_extension": ".py",
   "mimetype": "text/x-python",
   "name": "python",
   "nbconvert_exporter": "python",
   "pygments_lexer": "ipython3",
   "version": "3.13.5"
  }
 },
 "nbformat": 4,
 "nbformat_minor": 5
}
